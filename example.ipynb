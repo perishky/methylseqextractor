{
  "cells": [
    {
      "cell_type": "raw",
      "metadata": {},
      "source": [
        "---\n",
        "title: Example using methylseqextractor\n",
        "format:\n",
        "  html:\n",
        "    code-fold: false\n",
        "    toc: true\n",
        "    self-contained: true\n",
        "---"
      ],
      "id": "bd3bb81a"
    },
    {
      "cell_type": "markdown",
      "metadata": {},
      "source": [
        "This document illustrates how to use all functionality \n",
        "of 'methylseqextractor' \n",
        "[https://github.com/perishky/methylseqextractor](https://github.com/perishky/methylseqextractor).\n",
        "\n",
        "## Import methylseqextractor modules\n",
        "\n",
        "All necessary modules can be imported as follows:\n"
      ],
      "id": "adaccc5b"
    },
    {
      "cell_type": "code",
      "metadata": {},
      "source": [
        "#| eval: false\n",
        "from methylseqextractor import (\n",
        "  Window,\n",
        "  MethylSeqDataset,\n",
        "  LevelCalculator,\n",
        "  ClonalFlipCounter,\n",
        "  ConcurrenceCalculator,\n",
        "  CAMDACalculator\n",
        ")"
      ],
      "id": "53e2b1c6",
      "execution_count": null,
      "outputs": []
    },
    {
      "cell_type": "code",
      "metadata": {},
      "source": [
        "#| echo: false\n",
        "from src import (\n",
        "  Window,\n",
        "  MethylSeqDataset,\n",
        "  LevelCalculator,\n",
        "  ClonalFlipCounter,\n",
        "  ConcurrenceCalculator,\n",
        "  CAMDACalculator\n",
        ")"
      ],
      "id": "d8cc5e0a",
      "execution_count": null,
      "outputs": []
    },
    {
      "cell_type": "markdown",
      "metadata": {},
      "source": [
        "In the examples below, we'll use `pandas` to\n",
        "store outputs as data frames.\n"
      ],
      "id": "6f22998f"
    },
    {
      "cell_type": "code",
      "metadata": {},
      "source": [
        "import pandas as pd"
      ],
      "id": "b342384b",
      "execution_count": null,
      "outputs": []
    },
    {
      "cell_type": "markdown",
      "metadata": {},
      "source": [
        "## Extract reads containing specified CpG sites\n",
        "\n",
        "We can extract the reads overlapping each of a selected set of CpG sites. \n",
        "\n",
        "Here we prepare to extract reads overlapping CpG sites in the \n",
        "region chr1:1245000-1246000.\n"
      ],
      "id": "57749c2f"
    },
    {
      "cell_type": "code",
      "metadata": {},
      "source": [
        "bamfn = \"data/sample.bam\"\n",
        "fastafn = \"genome/hg19.fa\"\n",
        "dataset = MethylSeqDataset(bamfn, fastafn)\n",
        "iter = dataset.methylation(\"chr1\",1245000,1246000)"
      ],
      "id": "97e5eae2",
      "execution_count": null,
      "outputs": []
    },
    {
      "cell_type": "markdown",
      "metadata": {},
      "source": [
        "Each step of this iterator will return the reads of a different CpG site. \n",
        "Here are the reads for the first CpG site. \n"
      ],
      "id": "4b595bd9"
    },
    {
      "cell_type": "code",
      "metadata": {},
      "source": [
        "sites = next(iter)\n",
        "pd.DataFrame([site.get_dict() for site in sites])"
      ],
      "id": "17cc9c6f",
      "execution_count": null,
      "outputs": []
    },
    {
      "cell_type": "markdown",
      "metadata": {},
      "source": [
        "And the second CpG site.\n"
      ],
      "id": "59d60999"
    },
    {
      "cell_type": "code",
      "metadata": {},
      "source": [
        "sites = next(iter)\n",
        "pd.DataFrame([site.get_dict() for site in sites])"
      ],
      "id": "4b24a55c",
      "execution_count": null,
      "outputs": []
    },
    {
      "cell_type": "markdown",
      "metadata": {},
      "source": [
        "## Calculate DNA methylation levels\n",
        "\n",
        "A variety of summary statistics can be calculated from these read sets. \n",
        "\n",
        "One is the proportion of reads in which a CpG site is methylated \n",
        "\n",
        "Here we calculate DNA methylation levels for each CpG site \n",
        "in the region chr1:1245000-1246000.\n"
      ],
      "id": "a7528ea2"
    },
    {
      "cell_type": "code",
      "metadata": {},
      "source": [
        "levels = LevelCalculator(dataset)\n",
        "iter = levels.calculate(\"chr1\", 1245000, 1246000)\n",
        "pd.DataFrame([site for site in iter])"
      ],
      "id": "e8b36438",
      "execution_count": null,
      "outputs": []
    },
    {
      "cell_type": "markdown",
      "metadata": {},
      "source": [
        "CpG sequences are symmetric on DNA strands.\n",
        "By default, `MethylSeqDataset` merges these as if they\n",
        "are a single genomic position.\n",
        "It is possible to prevent merging. \n"
      ],
      "id": "8b2495fe"
    },
    {
      "cell_type": "code",
      "metadata": {},
      "source": [
        "dataset_stranded = MethylSeqDataset(bamfn, fastafn, merge_strands=False)\n",
        "levels = LevelCalculator(dataset_stranded)\n",
        "iter = levels.calculate(\"chr1\", 1245000, 1246000)\n",
        "pd.DataFrame([site for site in iter])"
      ],
      "id": "706e3bef",
      "execution_count": null,
      "outputs": []
    },
    {
      "cell_type": "markdown",
      "metadata": {},
      "source": [
        "## View DNA methylation patterns\n",
        "\n",
        "These read sets can also be simplified to just \n",
        "retrieve the DNA methylation patterns within \n",
        "a window of specified size as it 'slides' across the genome.\n",
        "\n",
        "Here we show the DNA methylation patterns\n",
        "200 base-pairs at a time.\n"
      ],
      "id": "ce96bda2"
    },
    {
      "cell_type": "code",
      "metadata": {},
      "source": [
        "window = Window(dataset,200)\n",
        "iter = window.slide(\"chr1\", 1245000, 1246000)\n",
        "print(next(iter)) ## first window position\n",
        "print(next(iter)) ## second window position"
      ],
      "id": "0811162e",
      "execution_count": null,
      "outputs": []
    },
    {
      "cell_type": "markdown",
      "metadata": {},
      "source": [
        "## Count clonal flips\n",
        "\n",
        "From these DNA methylation patterns, we can calculate\n",
        "how DNA methylation varies within and between reads. \n",
        "There are a variety of such metrics. \n",
        "\n",
        "One metric calculates the number of times the DNA methylation \n",
        "of CpG sites changes as one moves from one end of a \n",
        "DNA fragment (corresponding to a read pair) to the other. \n"
      ],
      "id": "70354eab"
    },
    {
      "cell_type": "code",
      "metadata": {},
      "source": [
        "flips = ClonalFlipCounter(dataset,200)\n",
        "iter = flips.calculate(\"chr1\", 1245000, 1246000)\n",
        "pd.DataFrame([ region for region in iter])"
      ],
      "id": "f87537bf",
      "execution_count": null,
      "outputs": []
    },
    {
      "cell_type": "markdown",
      "metadata": {},
      "source": [
        "## Calculate CAMDA scores \n",
        "\n",
        "The aim of **Concurrence of Active Methylation and De-methylAtion (CAMDA)**\n",
        "scores is to identify genomic regions where DNA methylation-modifying \n",
        "enzymes are active.  These regions are assumed to be those \n",
        "with many partially methylated reads. \n",
        "\n",
        "The original implementation can be found here:\n",
        "[https://github.com/JiejunShi/CAMDA](https://github.com/JiejunShi/CAMDA).\n",
        "\n",
        "The approach is illustrated below with an example:\n",
        "\n",
        "![CAMDA Schematic](https://raw.githubusercontent.com/JiejunShi/CAMDA/master/images/CAMDA_schematic.png)\n",
        "\n",
        "Not shown in the figure is the fact that CAMDA scores can be calculated for individual CpG sites\n",
        "(i.e. the proportion of times a CpG site is a concurrence site)\n",
        "or for regions of a given size\n",
        "(i.e. the proportion of times CpG sites in a region are concurrence sites).\n",
        "\n",
        "The 'size' argument to `CAMDACalculator`\n",
        "sets the size of the CpG-centered region for the CAMDA score.\n",
        "In the original CAMDA package, this is not an option and is always\n",
        "set to 1 (as below).\n"
      ],
      "id": "c09825d7"
    },
    {
      "cell_type": "code",
      "metadata": {},
      "source": [
        "camda = CAMDACalculator(dataset, 1)\n",
        "iter = camda.calculate(\"chr1\", 1245000, 1246000)\n",
        "pd.DataFrame([site for site in iter])"
      ],
      "id": "ecf5abb1",
      "execution_count": null,
      "outputs": []
    },
    {
      "cell_type": "markdown",
      "metadata": {},
      "source": [
        "## Calculate concurrence scores\n",
        "\n",
        "We can similarly calculate DNA methylation concurrence scores, \n",
        "i.e. in a given window, \n",
        "the proportion of unmethylated CpG sites in a read with at least\n",
        "one methylated CpG site relative to the set of all CpG sites \n",
        "in all reads.\n",
        "\n",
        "**Note:** this is different from the published 'CAMDA' score\n",
        "calculated above which performs these calculations across \n",
        "entire reads rather than just within the window. \n",
        "We restrict the calculation to the window\n",
        "to avoid an overdependence of the calculated statistics on read length.\n"
      ],
      "id": "04632b4f"
    },
    {
      "cell_type": "code",
      "metadata": {},
      "source": [
        "concurrence = ConcurrenceCalculator(dataset,200)\n",
        "iter = concurrence.calculate(\"chr1\", 1245000, 1246000)\n",
        "pd.DataFrame([region for region in iter])"
      ],
      "id": "1c60cfae",
      "execution_count": null,
      "outputs": []
    },
    {
      "cell_type": "markdown",
      "metadata": {},
      "source": [
        "## Analysing the entire genome efficiently using multiple processors\n",
        "\n",
        "Outputs are likely to get large and computationally more costly\n",
        "when generated for the entire genome rather than just a single region.\n",
        "Fortunately, these analyses are naturally parallalizable\n",
        "by chromosome using the `multiprocessing`library.\n",
        "\n",
        "For example, here we count DNA methylation 'flip' statistics \n",
        "chromosome-by-chromosome and save the results to CSV files.\n"
      ],
      "id": "1e5bd991"
    },
    {
      "cell_type": "code",
      "metadata": {},
      "source": [
        "#| eval: false\n",
        "\n",
        "import multiprocessing\n",
        "concurrence = ConcurrenceCalculator(dataset,200)\n",
        "\n",
        "def calculate_chrom_concurrences(chrom):\n",
        "    iter = concurrence.calculate(chrom)\n",
        "    return pd.DataFrame([region for region in iter])\n",
        "\n",
        "chromosomes = [\"chr\"+str(i) for i in range(1,23)] + [\"chrX\"]\n",
        "\n",
        "with multiprocessing.Pool(processes=12) as pool:\n",
        "    for stats in pool.imap(calculate_chrom_concurrences, chromosomes):\n",
        "        if len(stats) > 0:\n",
        "            stats.to_csv(\"concurrences_\" + stats['chrom'][0] + \".csv\")"
      ],
      "id": "44285b64",
      "execution_count": null,
      "outputs": []
    }
  ],
  "metadata": {
    "kernelspec": {
      "name": "python3",
      "language": "python",
      "display_name": "Python 3 (ipykernel)"
    }
  },
  "nbformat": 4,
  "nbformat_minor": 5
}